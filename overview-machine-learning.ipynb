{
 "cells": [
  {
   "cell_type": "markdown",
   "metadata": {},
   "source": [
    "# Machine Learning Tutorial\n",
    "\n",
    "## Oceanhackweek 2019"
   ]
  },
  {
   "cell_type": "markdown",
   "metadata": {},
   "source": [
    "In the recent years we have heard of many success stories of applications of Machine Learning for solving problems across domains. However, machine learning is not new: it has a long history intertwined with other fields such as Statistics, Data Mining, Pattern Recognition, Artificial Intelligence, Deep Learning, Data Science, etc."
   ]
  },
  {
   "cell_type": "markdown",
   "metadata": {},
   "source": [
    "So let's spend a few minutes and compare our own understanding of what all these terms mean to us."
   ]
  },
  {
   "cell_type": "markdown",
   "metadata": {},
   "source": [
    "*Activity 1: Provide your own definition of these terms in this etherpad:* [https://etherpad.net/p/Oceanhackweek2019](https://etherpad.net/p/Oceanhackweek2019)"
   ]
  },
  {
   "cell_type": "markdown",
   "metadata": {},
   "source": [
    "<img src= img/Terms.png width=\"600\" >"
   ]
  },
  {
   "cell_type": "markdown",
   "metadata": {},
   "source": [
    "**Some History**:\n",
    "\n",
    "Statistics: [The Lady Tasting Tea]()\n",
    "\n",
    "Machine Learning: [Statistical Modeling: The Two Cultures]()\n",
    "\n",
    "Artificial Intelligence: [A Proposal for the Dartmouth Summer Research Project on Artificial Intelligence]()\n",
    "\n",
    "Data Science: [An Action Plan for Expanding the Technical Areas of the Field of Statistics]()\n"
   ]
  },
  {
   "cell_type": "markdown",
   "metadata": {},
   "source": [
    "**Focus on the problems not the names!**"
   ]
  },
  {
   "cell_type": "markdown",
   "metadata": {},
   "source": [
    "Machines (i.e. algorithms) which are learning from data. "
   ]
  },
  {
   "cell_type": "markdown",
   "metadata": {},
   "source": [
    "**Machine Learning Categories**:\n",
    "* Supervised Learning\n",
    "* Unsupervised Learning\n",
    "* Semi-supervised Learning\n",
    "* Reinforcement Learning"
   ]
  },
  {
   "cell_type": "markdown",
   "metadata": {},
   "source": [
    "### Some popular types of problems which can be solved with Machine Learning \n",
    "(and a roadmap for solving them Andrea Mueller '13)"
   ]
  },
  {
   "cell_type": "markdown",
   "metadata": {},
   "source": [
    "![](img/MLmap.png)"
   ]
  },
  {
   "cell_type": "markdown",
   "metadata": {},
   "source": [
    "![](img/Classification.png)\n",
    "![](img/Regression.png)\n",
    "![](img/Clustering.png)\n",
    "![](img/DimensionalityReduction.png)\n",
    "<img src= img/ReinforcementLearning.png width=\"400\" >"
   ]
  },
  {
   "cell_type": "raw",
   "metadata": {},
   "source": []
  },
  {
   "cell_type": "markdown",
   "metadata": {},
   "source": [
    "**Classification:** each observation has a corresponding label. We want to learn a mapping which can predict the labels of future observations which do not have labels."
   ]
  },
  {
   "cell_type": "markdown",
   "metadata": {},
   "source": [
    "**Regression:** each observation has a corresponding output value. We want to learn a mapping which can predict the labels of future observations which do not have output values."
   ]
  },
  {
   "cell_type": "markdown",
   "metadata": {},
   "source": [
    "**Clustering:** combine the observations into several groups according to some measure of 'closeness'."
   ]
  },
  {
   "cell_type": "markdown",
   "metadata": {},
   "source": [
    "**Dimensionality Reduction:** embed the observations into a smaller dimensional space by preserving some measure of 'closeness'."
   ]
  },
  {
   "cell_type": "markdown",
   "metadata": {},
   "source": [
    "## Example of Applications in Oceanography"
   ]
  },
  {
   "cell_type": "markdown",
   "metadata": {},
   "source": [
    "**Classification:** whale call detection."
   ]
  },
  {
   "cell_type": "markdown",
   "metadata": {},
   "source": [
    "**Regression:** Sea Surface Temperature Interpolation with Gaussian Process regression.\n",
    "\n",
    "Argo Raw Data\n",
    "<img src = img/Argo_raw.png width=\"600\">\n",
    "\n",
    "Argo Predictions\n",
    "![Argo Predictions](img/Argo_Predictions.png)\n",
    "\n"
   ]
  },
  {
   "cell_type": "markdown",
   "metadata": {},
   "source": [
    "Mikael Kuusela and Michael L. Stein, Locally stationary spatio-temporal interpolation of Argo profiling float data [https://arxiv.org/abs/1711.00460](https://arxiv.org/abs/1711.00460)"
   ]
  },
  {
   "cell_type": "markdown",
   "metadata": {},
   "source": [
    "**Dimensionality Reduction**: PCA of Sea Surface Temperature\n",
    "    \n",
    "![](img/ElNinoEOF.png)"
   ]
  },
  {
   "cell_type": "markdown",
   "metadata": {},
   "source": [
    "**Clustering:**"
   ]
  },
  {
   "cell_type": "markdown",
   "metadata": {},
   "source": [
    "*Activity 2: go to the [etherpad]([https://etherpad.net/p/Oceanhackweek2019](https://etherpad.net/p/Oceanhackweek2019)) and try to provide one example of the above problems in oceanography.*"
   ]
  },
  {
   "cell_type": "markdown",
   "metadata": {},
   "source": [
    "### Oceanography Data: all Shapes and Sizes"
   ]
  },
  {
   "cell_type": "markdown",
   "metadata": {},
   "source": []
  },
  {
   "cell_type": "code",
   "execution_count": 8,
   "metadata": {},
   "outputs": [],
   "source": [
    "# Picture of all sorts of messy ocean datasets "
   ]
  },
  {
   "cell_type": "code",
   "execution_count": 9,
   "metadata": {},
   "outputs": [],
   "source": [
    "### Feature Extraction"
   ]
  },
  {
   "cell_type": "code",
   "execution_count": 10,
   "metadata": {},
   "outputs": [],
   "source": [
    "### discuss small number of features, large number of features, bias variance trade-off"
   ]
  },
  {
   "cell_type": "code",
   "execution_count": 2,
   "metadata": {},
   "outputs": [],
   "source": [
    "# Discuss how individual measurements can be highly correlated (time series, spatial relationships)"
   ]
  },
  {
   "cell_type": "code",
   "execution_count": 3,
   "metadata": {},
   "outputs": [],
   "source": [
    "# ML Roadmap for 2019\n",
    "\n",
    "# Add where Deep Learning can be useful. "
   ]
  },
  {
   "cell_type": "code",
   "execution_count": 5,
   "metadata": {},
   "outputs": [],
   "source": [
    "# Show examples of Deep Learning applications in Oceanography\n",
    "\n",
    "# (Maybe some of this can be later)"
   ]
  },
  {
   "cell_type": "code",
   "execution_count": null,
   "metadata": {},
   "outputs": [],
   "source": []
  }
 ],
 "metadata": {
  "kernelspec": {
   "display_name": "Python 3",
   "language": "python",
   "name": "python3"
  },
  "language_info": {
   "codemirror_mode": {
    "name": "ipython",
    "version": 3
   },
   "file_extension": ".py",
   "mimetype": "text/x-python",
   "name": "python",
   "nbconvert_exporter": "python",
   "pygments_lexer": "ipython3",
   "version": "3.7.3"
  }
 },
 "nbformat": 4,
 "nbformat_minor": 4
}
