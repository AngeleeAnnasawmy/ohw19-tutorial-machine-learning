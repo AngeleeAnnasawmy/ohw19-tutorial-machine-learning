{
 "cells": [
  {
   "cell_type": "markdown",
   "metadata": {},
   "source": [
    "### 1-D Convolutional Neural Networks with Keras"
   ]
  },
  {
   "cell_type": "markdown",
   "metadata": {},
   "source": [
    "In this notebook we show how to run a simple deep learning model to classify whale calls. We use the [keras](https://keras.io/) library. We will use a convolutional neural networks, since they are robust to temporal and spatial shifts. Although it is common to use 2D convolutional neural networks when working with spectrogram, we will use a 1D on the time series, as this can be applied to other time series classification problems. But instead of raw data, we will use the power spectrum profile of each signal and we hope that they will be sufficiently different for signals which contain right whale calls."
   ]
  },
  {
   "cell_type": "code",
   "execution_count": 334,
   "metadata": {},
   "outputs": [],
   "source": [
    "# ignore warnings\n",
    "import warnings\n",
    "warnings.filterwarnings(\"ignore\")"
   ]
  },
  {
   "cell_type": "code",
   "execution_count": 335,
   "metadata": {},
   "outputs": [],
   "source": [
    "# importing multiple visualization libraries\n",
    "%matplotlib inline\n",
    "\n",
    "import numpy as np\n",
    "import pandas as pd\n",
    "import matplotlib.pyplot as plt\n",
    "from matplotlib import mlab\n",
    "import pylab as pl\n",
    "import seaborn as sns"
   ]
  },
  {
   "cell_type": "code",
   "execution_count": 336,
   "metadata": {},
   "outputs": [],
   "source": [
    "# importing libraries to manipulate the data files\n",
    "import os\n",
    "from glob import glob"
   ]
  },
  {
   "cell_type": "code",
   "execution_count": 337,
   "metadata": {},
   "outputs": [],
   "source": [
    "# import a library to read the .aiff sound format\n",
    "import aifc"
   ]
  },
  {
   "cell_type": "markdown",
   "metadata": {},
   "source": [
    "**Preparing the Dataset**"
   ]
  },
  {
   "cell_type": "code",
   "execution_count": 338,
   "metadata": {},
   "outputs": [],
   "source": [
    "# reading the filenames\n",
    "filenames = sorted(glob(os.path.join('data','train','*.aiff')))"
   ]
  },
  {
   "cell_type": "code",
   "execution_count": 339,
   "metadata": {},
   "outputs": [],
   "source": [
    "from scipy import signal"
   ]
  },
  {
   "cell_type": "markdown",
   "metadata": {},
   "source": [
    "We want to calculate the power spectrum for each signal (which will be a one dimensional object). We can calculate tit using the [welch filter](https://docs.scipy.org/doc/scipy/reference/generated/scipy.signal.welch.html#scipy.signal.welch) from the `scipy.signal` library."
   ]
  },
  {
   "cell_type": "code",
   "execution_count": 340,
   "metadata": {},
   "outputs": [],
   "source": [
    "# read signals and apply the welch filter\n",
    "feature_dict = {}\n",
    "fs = 2000\n",
    "for filename in filenames[:10000]:\n",
    "    aiff = aifc.open(filename,'r')\n",
    "    whale_strSig = aiff.readframes(aiff.getnframes())\n",
    "    whale_array = np.fromstring(whale_strSig, np.short).byteswap()\n",
    "    # apply welch filter\n",
    "    feature = 10*np.log10(signal.welch(whale_array, fs=fs, window='hanning', nperseg=256, noverlap=128+64)[1])\n",
    "    feature_dict[filename] = feature"
   ]
  },
  {
   "cell_type": "code",
   "execution_count": 341,
   "metadata": {},
   "outputs": [
    {
     "data": {
      "text/plain": [
       "Text(0.5, 0, 'Time in Seconds')"
      ]
     },
     "execution_count": 341,
     "metadata": {},
     "output_type": "execute_result"
    },
    {
     "data": {
      "image/png": "[encoded data removed]",
      "text/plain": [
       "<Figure size 432x288 with 1 Axes>"
      ]
     },
     "metadata": {
      "needs_background": "light"
     },
     "output_type": "display_data"
    }
   ],
   "source": [
    "# plot an example of power spectrum\n",
    "plt.plot(feature_dict['data/train/train00006.aiff'])\n",
    "plt.title('Power Spectrum for a Right Whale Up-call')\n",
    "plt.ylabel('Power Spectrum')\n",
    "plt.xlabel('Time in Seconds')"
   ]
  },
  {
   "cell_type": "code",
   "execution_count": 342,
   "metadata": {},
   "outputs": [],
   "source": [
    "#y = np.array(labels['label'][X.columns])\n",
    "y = np.load('y.npy')\n",
    "y = y.astype('float32')"
   ]
  },
  {
   "cell_type": "code",
   "execution_count": 343,
   "metadata": {},
   "outputs": [],
   "source": [
    "X = pd.DataFrame(feature_dict).T"
   ]
  },
  {
   "cell_type": "markdown",
   "metadata": {},
   "source": [
    "**Importing Libraries for Deep Learning on Time Domain Objects**"
   ]
  },
  {
   "cell_type": "code",
   "execution_count": 344,
   "metadata": {},
   "outputs": [],
   "source": [
    "import keras\n",
    "from keras.models import Sequential\n",
    "from keras.layers import Dense, Dropout, Activation\n",
    "from keras.layers import Conv1D, GlobalAveragePooling1D, MaxPooling1D\n",
    "from keras.optimizers import SGD\n",
    "from keras.layers.normalization import BatchNormalization\n",
    "from keras.callbacks import ModelCheckpoint, EarlyStopping, ReduceLROnPlateau, CSVLogger, TensorBoard"
   ]
  },
  {
   "cell_type": "markdown",
   "metadata": {},
   "source": [
    "**Training - Validation Dataset Split**"
   ]
  },
  {
   "cell_type": "code",
   "execution_count": 361,
   "metadata": {},
   "outputs": [],
   "source": [
    "from sklearn.model_selection import train_test_split\n",
    "\n",
    "X_train, X_test, y_train, y_test = train_test_split(X, y, test_size=0.20, random_state=2018, shuffle=True)\n",
    "\n",
    "X_train = np.expand_dims(X_train, axis=2)\n",
    "X_test = np.expand_dims(X_test, axis=2)"
   ]
  },
  {
   "cell_type": "markdown",
   "metadata": {},
   "source": [
    "**Building the Neural Network**"
   ]
  },
  {
   "cell_type": "code",
   "execution_count": 362,
   "metadata": {},
   "outputs": [],
   "source": [
    "model = Sequential()\n",
    "\n",
    "model.add(Conv1D(16, 3, activation='relu', input_shape=(129, 1)))\n",
    "model.add(Conv1D(16, 3, activation='relu'))\n",
    "model.add(BatchNormalization())\n",
    "\n",
    "model.add(Conv1D(32, 3, activation='relu'))\n",
    "model.add(Conv1D(32, 3, activation='relu'))\n",
    "model.add(BatchNormalization())\n",
    "\n",
    "model.add(MaxPooling1D(2))\n",
    "model.add(Conv1D(64, 3, activation='relu'))\n",
    "model.add(Conv1D(64, 3, activation='relu'))\n",
    "model.add(BatchNormalization())\n",
    "\n",
    "model.add(MaxPooling1D(2))\n",
    "model.add(Conv1D(128, 3, activation='relu'))\n",
    "model.add(Conv1D(128, 3, activation='relu'))\n",
    "model.add(BatchNormalization())\n",
    "\n",
    "model.add(MaxPooling1D(2))\n",
    "model.add(Conv1D(256, 3, activation='relu'))\n",
    "model.add(Conv1D(256, 3, activation='relu'))\n",
    "model.add(BatchNormalization())\n",
    "model.add(GlobalAveragePooling1D())\n",
    "\n",
    "model.add(Dropout(0.5))\n",
    "model.add(Dense(1, activation='sigmoid'))\n",
    "\n",
    "model.compile(loss='binary_crossentropy',\n",
    "              optimizer=SGD(lr=0.01),\n",
    "              metrics=['accuracy'])"
   ]
  },
  {
   "cell_type": "markdown",
   "metadata": {},
   "source": [
    "**Jargon Translation:**\n",
    "\n",
    "|Term| Explanation|\n",
    "|---|---|\n",
    "|Convolutional Layers | layers which are robust to time shifts|\n",
    "|Max Pooling/ Average Pooling |dimension reduction, robustness|\n",
    "|Batch normalization |equalizes the distribution of the batches |\n",
    "|Epochs |1 run of a batch |\n",
    "|Adam Optimizer | an adaptive optimization scheme|\n",
    "|Cross Entropy | cost function|\n",
    "|ReLU | nonlinear activation function| \n",
    "|Batch Size| size of subset to process to update the estimates|\n",
    "|Learning Rate | time step of the optimization algorithm|"
   ]
  },
  {
   "cell_type": "markdown",
   "metadata": {},
   "source": [
    "**Visualizing the Computation Graph**"
   ]
  },
  {
   "cell_type": "code",
   "execution_count": 363,
   "metadata": {},
   "outputs": [],
   "source": [
    "# from keras.utils import plot_model\n",
    "# plot_model(model,to_file='model_plot.png')"
   ]
  },
  {
   "cell_type": "markdown",
   "metadata": {},
   "source": [
    "<img src=\"img/model_plot.png\" width=200/>"
   ]
  },
  {
   "cell_type": "markdown",
   "metadata": {},
   "source": [
    "**Model Logging Object**"
   ]
  },
  {
   "cell_type": "code",
   "execution_count": 364,
   "metadata": {},
   "outputs": [],
   "source": [
    "model_name = 'deep_1'\n",
    "top_weights_path = 'model_' + str(model_name) + '.h5'\n",
    "\n",
    "callbacks_list = [ModelCheckpoint(top_weights_path, monitor = 'val_acc', verbose = 1, save_best_only = True, save_weights_only = True), \n",
    "    EarlyStopping(monitor = 'val_acc', patience = 6, verbose = 1),\n",
    "    ReduceLROnPlateau(monitor = 'val_acc', factor = 0.1, patience = 3, verbose = 1),\n",
    "    CSVLogger('model_' + str(model_name) + '.log')]"
   ]
  },
  {
   "cell_type": "markdown",
   "metadata": {},
   "source": [
    "**Model Training**"
   ]
  },
  {
   "cell_type": "code",
   "execution_count": 365,
   "metadata": {},
   "outputs": [
    {
     "name": "stdout",
     "output_type": "stream",
     "text": [
      "Train on 8000 samples, validate on 2000 samples\n",
      "Epoch 1/100\n",
      "8000/8000 [==============================] - 11s 1ms/step - loss: 0.6446 - acc: 0.6548 - val_loss: 1.1039 - val_acc: 0.2780\n",
      "\n",
      "Epoch 00001: val_acc improved from -inf to 0.27800, saving model to model_deep_1.h5\n",
      "Epoch 2/100\n",
      "8000/8000 [==============================] - 7s 886us/step - loss: 0.5576 - acc: 0.7194 - val_loss: 0.7752 - val_acc: 0.5570\n",
      "\n",
      "Epoch 00002: val_acc improved from 0.27800 to 0.55700, saving model to model_deep_1.h5\n",
      "Epoch 3/100\n",
      "8000/8000 [==============================] - 7s 881us/step - loss: 0.5075 - acc: 0.7564 - val_loss: 0.7104 - val_acc: 0.5695\n",
      "\n",
      "Epoch 00003: val_acc improved from 0.55700 to 0.56950, saving model to model_deep_1.h5\n",
      "Epoch 4/100\n",
      "8000/8000 [==============================] - 7s 882us/step - loss: 0.4779 - acc: 0.7704 - val_loss: 0.6508 - val_acc: 0.6280\n",
      "\n",
      "Epoch 00004: val_acc improved from 0.56950 to 0.62800, saving model to model_deep_1.h5\n",
      "Epoch 5/100\n",
      "8000/8000 [==============================] - 7s 886us/step - loss: 0.4531 - acc: 0.7845 - val_loss: 0.4428 - val_acc: 0.7910\n",
      "\n",
      "Epoch 00005: val_acc improved from 0.62800 to 0.79100, saving model to model_deep_1.h5\n",
      "Epoch 6/100\n",
      "8000/8000 [==============================] - 7s 885us/step - loss: 0.4340 - acc: 0.7946 - val_loss: 0.4391 - val_acc: 0.7875\n",
      "\n",
      "Epoch 00006: val_acc did not improve from 0.79100\n",
      "Epoch 7/100\n",
      "8000/8000 [==============================] - 7s 885us/step - loss: 0.4150 - acc: 0.8103 - val_loss: 0.4430 - val_acc: 0.8030\n",
      "\n",
      "Epoch 00007: val_acc improved from 0.79100 to 0.80300, saving model to model_deep_1.h5\n",
      "Epoch 8/100\n",
      "8000/8000 [==============================] - 7s 887us/step - loss: 0.3989 - acc: 0.8125 - val_loss: 0.3968 - val_acc: 0.8165\n",
      "\n",
      "Epoch 00008: val_acc improved from 0.80300 to 0.81650, saving model to model_deep_1.h5\n",
      "Epoch 9/100\n",
      "8000/8000 [==============================] - 7s 887us/step - loss: 0.3946 - acc: 0.8165 - val_loss: 0.4195 - val_acc: 0.8095\n",
      "\n",
      "Epoch 00009: val_acc did not improve from 0.81650\n",
      "Epoch 10/100\n",
      "8000/8000 [==============================] - 7s 892us/step - loss: 0.3800 - acc: 0.8226 - val_loss: 0.4392 - val_acc: 0.8005\n",
      "\n",
      "Epoch 00010: val_acc did not improve from 0.81650\n",
      "Epoch 11/100\n",
      "8000/8000 [==============================] - 8s 939us/step - loss: 0.3703 - acc: 0.8239 - val_loss: 0.4068 - val_acc: 0.8010\n",
      "\n",
      "Epoch 00011: val_acc did not improve from 0.81650\n",
      "\n",
      "Epoch 00011: ReduceLROnPlateau reducing learning rate to 0.0009999999776482583.\n",
      "Epoch 12/100\n",
      "8000/8000 [==============================] - 7s 881us/step - loss: 0.3588 - acc: 0.8309 - val_loss: 0.3860 - val_acc: 0.8155\n",
      "\n",
      "Epoch 00012: val_acc did not improve from 0.81650\n",
      "Epoch 13/100\n",
      "8000/8000 [==============================] - 7s 898us/step - loss: 0.3574 - acc: 0.8333 - val_loss: 0.3900 - val_acc: 0.8185\n",
      "\n",
      "Epoch 00013: val_acc improved from 0.81650 to 0.81850, saving model to model_deep_1.h5\n",
      "Epoch 14/100\n",
      "8000/8000 [==============================] - 7s 887us/step - loss: 0.3528 - acc: 0.8370 - val_loss: 0.3897 - val_acc: 0.8145\n",
      "\n",
      "Epoch 00014: val_acc did not improve from 0.81850\n",
      "Epoch 15/100\n",
      "8000/8000 [==============================] - 7s 890us/step - loss: 0.3570 - acc: 0.8363 - val_loss: 0.3872 - val_acc: 0.8175\n",
      "\n",
      "Epoch 00015: val_acc did not improve from 0.81850\n",
      "Epoch 16/100\n",
      "8000/8000 [==============================] - 7s 894us/step - loss: 0.3535 - acc: 0.8386 - val_loss: 0.3873 - val_acc: 0.8165\n",
      "\n",
      "Epoch 00016: val_acc did not improve from 0.81850\n",
      "\n",
      "Epoch 00016: ReduceLROnPlateau reducing learning rate to 9.999999310821295e-05.\n",
      "Epoch 17/100\n",
      "8000/8000 [==============================] - 7s 890us/step - loss: 0.3509 - acc: 0.8386 - val_loss: 0.3872 - val_acc: 0.8195\n",
      "\n",
      "Epoch 00017: val_acc improved from 0.81850 to 0.81950, saving model to model_deep_1.h5\n",
      "Epoch 18/100\n",
      "8000/8000 [==============================] - 7s 892us/step - loss: 0.3492 - acc: 0.8361 - val_loss: 0.3865 - val_acc: 0.8185\n",
      "\n",
      "Epoch 00018: val_acc did not improve from 0.81950\n",
      "Epoch 19/100\n",
      "8000/8000 [==============================] - 8s 949us/step - loss: 0.3478 - acc: 0.8424 - val_loss: 0.3858 - val_acc: 0.8195\n",
      "\n",
      "Epoch 00019: val_acc did not improve from 0.81950\n",
      "Epoch 20/100\n",
      "8000/8000 [==============================] - 7s 926us/step - loss: 0.3443 - acc: 0.8421 - val_loss: 0.3864 - val_acc: 0.8190\n",
      "\n",
      "Epoch 00020: val_acc did not improve from 0.81950\n",
      "\n",
      "Epoch 00020: ReduceLROnPlateau reducing learning rate to 9.999999019782991e-06.\n",
      "Epoch 21/100\n",
      "8000/8000 [==============================] - 7s 887us/step - loss: 0.3485 - acc: 0.8434 - val_loss: 0.3862 - val_acc: 0.8190\n",
      "\n",
      "Epoch 00021: val_acc did not improve from 0.81950\n",
      "Epoch 22/100\n",
      "8000/8000 [==============================] - 7s 892us/step - loss: 0.3426 - acc: 0.8419 - val_loss: 0.3860 - val_acc: 0.8180\n",
      "\n",
      "Epoch 00022: val_acc did not improve from 0.81950\n",
      "Epoch 23/100\n",
      "8000/8000 [==============================] - 7s 890us/step - loss: 0.3493 - acc: 0.8440 - val_loss: 0.3859 - val_acc: 0.8185\n",
      "\n",
      "Epoch 00023: val_acc did not improve from 0.81950\n",
      "\n",
      "Epoch 00023: ReduceLROnPlateau reducing learning rate to 9.99999883788405e-07.\n",
      "Epoch 00023: early stopping\n",
      "CPU times: user 20min 56s, sys: 59.9 s, total: 21min 56s\n",
      "Wall time: 2min 55s\n"
     ]
    }
   ],
   "source": [
    "%%time\n",
    "# Fitting the Model(this will take loooooooong time, if run on CPU)\n",
    "history = model.fit(X_train, y_train, batch_size=128, epochs=100, validation_data = [X_test, y_test], callbacks = callbacks_list)"
   ]
  },
  {
   "cell_type": "markdown",
   "metadata": {},
   "source": [
    "**Evaluation**"
   ]
  },
  {
   "cell_type": "code",
   "execution_count": 416,
   "metadata": {},
   "outputs": [
    {
     "name": "stdout",
     "output_type": "stream",
     "text": [
      "2000/2000 [==============================] - 1s 510us/step\n",
      "Test accuracy: 0.8195\n"
     ]
    }
   ],
   "source": [
    "model.load_weights(top_weights_path)\n",
    "loss, acc = model.evaluate(X_test, y_test, batch_size=16)\n",
    "print('Test accuracy:', acc)"
   ]
  },
  {
   "cell_type": "code",
   "execution_count": 417,
   "metadata": {},
   "outputs": [],
   "source": [
    "# prediction and prediction scores\n",
    "y_pred = np.array((model.predict(X_test)>0.5).astype('int32'))\n",
    "y_score = model.predict_proba(X_test)"
   ]
  },
  {
   "cell_type": "code",
   "execution_count": 418,
   "metadata": {},
   "outputs": [
    {
     "name": "stdout",
     "output_type": "stream",
     "text": [
      "Test precision: [0.66414141]\n"
     ]
    }
   ],
   "source": [
    "# precision\n",
    "print('Test precision:', sum(y_pred[y_test == 1]>0)/sum(y_pred == 1))"
   ]
  },
  {
   "cell_type": "code",
   "execution_count": 419,
   "metadata": {},
   "outputs": [
    {
     "name": "stdout",
     "output_type": "stream",
     "text": [
      "Test recall: [0.53564155]\n"
     ]
    }
   ],
   "source": [
    "# recall\n",
    "print('Test recall:', sum(y_pred[y_test == 1]>0)/sum(y_test == 1))"
   ]
  },
  {
   "cell_type": "code",
   "execution_count": 428,
   "metadata": {},
   "outputs": [
    {
     "data": {
      "text/plain": [
       "Text(0.5, 14.09375, 'Predicted label')"
      ]
     },
     "execution_count": 428,
     "metadata": {},
     "output_type": "execute_result"
    },
    {
     "data": {
      "image/png": "[encoded data removed]",
      "text/plain": [
       "<Figure size 360x288 with 2 Axes>"
      ]
     },
     "metadata": {
      "needs_background": "light"
     },
     "output_type": "display_data"
    }
   ],
   "source": [
    "# confusion matrix\n",
    "from sklearn.metrics import confusion_matrix, accuracy_score\n",
    "cm = confusion_matrix(y_test,y_pred)\n",
    "# Transform to df for easier plotting\n",
    "cm_df = pd.DataFrame(cm,\n",
    "                     index = ['No_Upcall','Upcall'], \n",
    "                     columns = ['No_Upcall','Upcall'])\n",
    "\n",
    "plt.figure(figsize=(5,4))\n",
    "sns.heatmap(cm_df, annot=True, fmt='g')\n",
    "plt.title('\\nAccuracy:{0:.3f}'.format(accuracy_score(y_test, y_pred)))\n",
    "plt.ylabel('True label')\n",
    "plt.xlabel('Predicted label')"
   ]
  },
  {
   "cell_type": "code",
   "execution_count": 429,
   "metadata": {},
   "outputs": [
    {
     "data": {
      "image/png": "[encoded data removed]",
      "text/plain": [
       "<Figure size 432x288 with 1 Axes>"
      ]
     },
     "metadata": {
      "needs_background": "light"
     },
     "output_type": "display_data"
    }
   ],
   "source": [
    "# Model Loss\n",
    "plt.plot(history.history['loss'])\n",
    "plt.plot(history.history['val_loss'])\n",
    "plt.title('Model loss')\n",
    "plt.ylabel('Loss')\n",
    "plt.xlabel('Epoch')\n",
    "plt.legend(['Train', 'Test'], loc='upper left')\n",
    "plt.show()"
   ]
  },
  {
   "cell_type": "code",
   "execution_count": 430,
   "metadata": {},
   "outputs": [
    {
     "data": {
      "image/png": "[encoded data removed]",
      "text/plain": [
       "<Figure size 432x288 with 1 Axes>"
      ]
     },
     "metadata": {
      "needs_background": "light"
     },
     "output_type": "display_data"
    }
   ],
   "source": [
    "# Prediction Accuracy\n",
    "plt.plot(history.history['acc'])\n",
    "plt.plot(history.history['val_acc'])\n",
    "plt.title('Prediction Accuracy')\n",
    "plt.ylabel('Accuracy')\n",
    "plt.xlabel('Epoch')\n",
    "plt.legend(['Train', 'Test'], loc='upper left')\n",
    "plt.show()"
   ]
  },
  {
   "cell_type": "code",
   "execution_count": 431,
   "metadata": {},
   "outputs": [],
   "source": [
    "# Accuracy\n",
    "from sklearn.metrics import average_precision_score, roc_auc_score, roc_curve \n",
    "roc_auc = roc_auc_score(y_test.astype('int'), y_score)\n",
    "fpr, tpr, _ = roc_curve(y_test, y_score)"
   ]
  },
  {
   "cell_type": "code",
   "execution_count": 432,
   "metadata": {},
   "outputs": [
    {
     "data": {
      "text/plain": [
       "<matplotlib.legend.Legend at 0x7fa631792400>"
      ]
     },
     "execution_count": 432,
     "metadata": {},
     "output_type": "execute_result"
    },
    {
     "data": {
      "image/png": "[encoded data removed]",
      "text/plain": [
       "<Figure size 432x288 with 1 Axes>"
      ]
     },
     "metadata": {
      "needs_background": "light"
     },
     "output_type": "display_data"
    }
   ],
   "source": [
    "# Plotting Accuracy\n",
    "lw = 2\n",
    "plt.plot(fpr, tpr, color='darkorange',\n",
    "         lw=lw, label='ROC curve (area = %0.2f)' % roc_auc)\n",
    "plt.plot([0, 1], [0, 1], color='navy', lw=lw, linestyle='--')\n",
    "plt.xlim([0.0, 1.0])\n",
    "plt.ylim([0.0, 1.05])\n",
    "plt.xlabel('False Positive Rate\\n predicted upcall when no upcall')\n",
    "plt.ylabel('True Positive Rate\\n predicted upcall when upcall')\n",
    "plt.title('Receiver operating characteristic')\n",
    "plt.legend(loc=\"lower right\")"
   ]
  },
  {
   "cell_type": "code",
   "execution_count": 433,
   "metadata": {},
   "outputs": [
    {
     "name": "stdout",
     "output_type": "stream",
     "text": [
      "Average precision-recall score: 0.66\n"
     ]
    }
   ],
   "source": [
    "# Precision Recall\n",
    "from sklearn.metrics import average_precision_score\n",
    "average_precision = average_precision_score(y_test.astype('int'), y_score)\n",
    "print('Average precision-recall score: {0:0.2f}'.format(\n",
    "      average_precision))"
   ]
  },
  {
   "cell_type": "code",
   "execution_count": 434,
   "metadata": {},
   "outputs": [
    {
     "data": {
      "text/plain": [
       "Text(0.5, 1.0, '2-class Precision-Recall curve: AP=0.66')"
      ]
     },
     "execution_count": 434,
     "metadata": {},
     "output_type": "execute_result"
    },
    {
     "data": {
      "image/png": "[encoded data removed]",
      "text/plain": [
       "<Figure size 432x288 with 1 Axes>"
      ]
     },
     "metadata": {
      "needs_background": "light"
     },
     "output_type": "display_data"
    }
   ],
   "source": [
    "# Plotting Prediction and Recall\n",
    "from sklearn.metrics import precision_recall_curve\n",
    "import matplotlib.pyplot as plt\n",
    "\n",
    "precision, recall, _ = precision_recall_curve(y_test.astype('int'), y_score)\n",
    "\n",
    "plt.step(recall, precision, color='b', alpha=0.2,\n",
    "         where='post')\n",
    "plt.fill_between(recall, precision, step='post', alpha=0.2,\n",
    "                 color='b')\n",
    "\n",
    "plt.xlabel('Recall')\n",
    "plt.ylabel('Precision')\n",
    "plt.ylim([0.0, 1.05])\n",
    "plt.xlim([0.0, 1.0])\n",
    "plt.title('2-class Precision-Recall curve: AP={0:0.2f}'.format(\n",
    "          average_precision))"
   ]
  },
  {
   "cell_type": "markdown",
   "metadata": {},
   "source": [
    "**References:**\n",
    "\n",
    "[Deep Learning Glossary](http://www.wildml.com/deep-learning-glossary/)\n",
    "\n",
    "[Keras and NN Tutorial](https://indico.cern.ch/event/506145/contributions/2132944/attachments/1258124/1858154/NNinKeras_MPaganini.pdf)\n",
    "\n",
    "[Keras Cheatsheet](https://s3.amazonaws.com/assets.datacamp.com/blog_assets/Keras_Cheat_Sheet_Python.pdf)\n",
    "\n",
    "Free GPU usage: [Google Colaboratory notebooks](https://colab.research.google.com/notebooks/welcome.ipynb#recent=true) & [Kaggle Kernels](https://www.kaggle.com/kernels)."
   ]
  },
  {
   "cell_type": "markdown",
   "metadata": {},
   "source": [
    "Monitoring Performance: [TensorBoard](https://www.tensorflow.org/guide/summaries_and_tensorboard), [TensorWatch](https://github.com/microsoft/tensorwatch/blob/master/README.md)"
   ]
  },
  {
   "cell_type": "code",
   "execution_count": null,
   "metadata": {},
   "outputs": [],
   "source": []
  }
 ],
 "metadata": {
  "kernelspec": {
   "display_name": "Python 3",
   "language": "python",
   "name": "python3"
  },
  "language_info": {
   "codemirror_mode": {
    "name": "ipython",
    "version": 3
   },
   "file_extension": ".py",
   "mimetype": "text/x-python",
   "name": "python",
   "nbconvert_exporter": "python",
   "pygments_lexer": "ipython3",
   "version": "3.7.3"
  }
 },
 "nbformat": 4,
 "nbformat_minor": 4
}
