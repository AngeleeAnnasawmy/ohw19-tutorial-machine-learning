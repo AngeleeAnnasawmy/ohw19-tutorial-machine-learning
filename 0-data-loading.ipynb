{
 "cells": [
  {
   "cell_type": "markdown",
   "metadata": {},
   "source": [
    "testing nbgitpuller jupyter hub change"
   ]
  },
  {
   "cell_type": "markdown",
   "metadata": {},
   "source": [
    "## Whale Sound Exploration\n",
    "\n",
    "In this tutorial we will explore some data which contain right whale up-calls. The dataset was shared as part of a [2013 Kaggle competition](https://www.kaggle.com/c/whale-detection-challenge). Our goal is not to show the best winning algorithm to detect a call, but share a simple pipeline for processing oscillatory data, which possibly can be used on wide range of time series.\n",
    "\n",
    "Objectives:\n",
    "* read and extract features form audio data\n",
    "* apply dimensionality reduction techiques\n",
    "* perform supervised classification\n",
    "* learn how to evaluate machine learning models\n",
    "* train a neural network to detect whale calls\n"
   ]
  },
  {
   "cell_type": "markdown",
   "metadata": {},
   "source": [
    "### Data Loading and Exploration\n",
    "---"
   ]
  },
  {
   "cell_type": "code",
   "execution_count": 25,
   "metadata": {},
   "outputs": [],
   "source": [
    "# ignore warnings\n",
    "import warnings\n",
    "warnings.filterwarnings(\"ignore\")"
   ]
  },
  {
   "cell_type": "code",
   "execution_count": 26,
   "metadata": {},
   "outputs": [],
   "source": [
    "# importing multiple visualization libraries\n",
    "%matplotlib inline\n",
    "import matplotlib.pyplot as plt\n",
    "from matplotlib import mlab\n",
    "import pylab as pl\n",
    "#import seaborn"
   ]
  },
  {
   "cell_type": "code",
   "execution_count": 27,
   "metadata": {},
   "outputs": [],
   "source": [
    "# importing libraries to manipulate the data files\n",
    "import os\n",
    "from glob import glob"
   ]
  },
  {
   "cell_type": "code",
   "execution_count": 7,
   "metadata": {},
   "outputs": [],
   "source": [
    "# importing scientific python packages\n",
    "import numpy as np"
   ]
  },
  {
   "cell_type": "code",
   "execution_count": 8,
   "metadata": {},
   "outputs": [],
   "source": [
    "# import a library to read the .aiff format\n",
    "import aifc"
   ]
  },
  {
   "cell_type": "markdown",
   "metadata": {},
   "source": [
    "The `train` folder contains many `.aiff` files (2 second snippets) and we have `.csv` document which contains the corresponding labels. "
   ]
  },
  {
   "cell_type": "code",
   "execution_count": 9,
   "metadata": {},
   "outputs": [
    {
     "name": "stdout",
     "output_type": "stream",
     "text": [
      "ls: cannot access 'whale_data': No such file or directory\n"
     ]
    }
   ],
   "source": [
    "!ls whale_data"
   ]
  },
  {
   "cell_type": "code",
   "execution_count": 4,
   "metadata": {},
   "outputs": [],
   "source": [
    "#!unzip whale_data_train_only.zip"
   ]
  },
  {
   "cell_type": "code",
   "execution_count": 10,
   "metadata": {},
   "outputs": [],
   "source": [
    "filenames = glob(os.path.join('whale_data_train_only','train','*.aiff'))"
   ]
  },
  {
   "cell_type": "code",
   "execution_count": 11,
   "metadata": {},
   "outputs": [
    {
     "name": "stdout",
     "output_type": "stream",
     "text": [
      "There are 30000 files.\n"
     ]
    }
   ],
   "source": [
    "print('There are '+str(len(filenames))+' files.' )"
   ]
  },
  {
   "cell_type": "code",
   "execution_count": 13,
   "metadata": {},
   "outputs": [],
   "source": [
    "# read the labels\n",
    "import pandas as pd\n",
    "labels = pd.read_csv(os.path.join('train.csv'), index_col = 0)"
   ]
  },
  {
   "cell_type": "markdown",
   "metadata": {},
   "source": [
    "The format of the labels is"
   ]
  },
  {
   "cell_type": "code",
   "execution_count": 14,
   "metadata": {},
   "outputs": [
    {
     "data": {
      "text/html": [
       "<div>\n",
       "<style scoped>\n",
       "    .dataframe tbody tr th:only-of-type {\n",
       "        vertical-align: middle;\n",
       "    }\n",
       "\n",
       "    .dataframe tbody tr th {\n",
       "        vertical-align: top;\n",
       "    }\n",
       "\n",
       "    .dataframe thead th {\n",
       "        text-align: right;\n",
       "    }\n",
       "</style>\n",
       "<table border=\"1\" class=\"dataframe\">\n",
       "  <thead>\n",
       "    <tr style=\"text-align: right;\">\n",
       "      <th></th>\n",
       "      <th>label</th>\n",
       "    </tr>\n",
       "    <tr>\n",
       "      <th>clip_name</th>\n",
       "      <th></th>\n",
       "    </tr>\n",
       "  </thead>\n",
       "  <tbody>\n",
       "    <tr>\n",
       "      <th>train1.aiff</th>\n",
       "      <td>0</td>\n",
       "    </tr>\n",
       "    <tr>\n",
       "      <th>train2.aiff</th>\n",
       "      <td>0</td>\n",
       "    </tr>\n",
       "    <tr>\n",
       "      <th>train3.aiff</th>\n",
       "      <td>0</td>\n",
       "    </tr>\n",
       "    <tr>\n",
       "      <th>train4.aiff</th>\n",
       "      <td>0</td>\n",
       "    </tr>\n",
       "    <tr>\n",
       "      <th>train5.aiff</th>\n",
       "      <td>0</td>\n",
       "    </tr>\n",
       "    <tr>\n",
       "      <th>train6.aiff</th>\n",
       "      <td>1</td>\n",
       "    </tr>\n",
       "    <tr>\n",
       "      <th>train7.aiff</th>\n",
       "      <td>1</td>\n",
       "    </tr>\n",
       "    <tr>\n",
       "      <th>train8.aiff</th>\n",
       "      <td>0</td>\n",
       "    </tr>\n",
       "    <tr>\n",
       "      <th>train9.aiff</th>\n",
       "      <td>1</td>\n",
       "    </tr>\n",
       "    <tr>\n",
       "      <th>train10.aiff</th>\n",
       "      <td>0</td>\n",
       "    </tr>\n",
       "  </tbody>\n",
       "</table>\n",
       "</div>"
      ],
      "text/plain": [
       "              label\n",
       "clip_name          \n",
       "train1.aiff       0\n",
       "train2.aiff       0\n",
       "train3.aiff       0\n",
       "train4.aiff       0\n",
       "train5.aiff       0\n",
       "train6.aiff       1\n",
       "train7.aiff       1\n",
       "train8.aiff       0\n",
       "train9.aiff       1\n",
       "train10.aiff      0"
      ]
     },
     "execution_count": 14,
     "metadata": {},
     "output_type": "execute_result"
    }
   ],
   "source": [
    "labels.head(10)"
   ]
  },
  {
   "cell_type": "markdown",
   "metadata": {},
   "source": [
    "Let's look at one of those files."
   ]
  },
  {
   "cell_type": "code",
   "execution_count": 19,
   "metadata": {},
   "outputs": [
    {
     "name": "stdout",
     "output_type": "stream",
     "text": [
      "Frames: 4000\n",
      "Frame rate (frames per second): 2000\n"
     ]
    }
   ],
   "source": [
    "# reading the file info\n",
    "#whale_sample_file = whale_labels[0] \n",
    "whale_sample_file = 'train6.aiff'\n",
    "whale_aiff = aifc.open(os.path.join('whale_data_train_only','train',whale_sample_file),'r')\n",
    "print (\"Frames:\", whale_aiff.getnframes() )\n",
    "print (\"Frame rate (frames per second):\", whale_aiff.getframerate())"
   ]
  },
  {
   "cell_type": "code",
   "execution_count": 20,
   "metadata": {},
   "outputs": [
    {
     "name": "stderr",
     "output_type": "stream",
     "text": [
      "/srv/conda/envs/notebook/lib/python3.6/site-packages/ipykernel_launcher.py:3: DeprecationWarning: The binary mode of fromstring is deprecated, as it behaves surprisingly on unicode inputs. Use frombuffer instead\n",
      "  This is separate from the ipykernel package so we can avoid doing imports until\n"
     ]
    },
    {
     "ename": "NameError",
     "evalue": "name 'plt' is not defined",
     "output_type": "error",
     "traceback": [
      "\u001b[0;31m---------------------------------------------------------------------------\u001b[0m",
      "\u001b[0;31mNameError\u001b[0m                                 Traceback (most recent call last)",
      "\u001b[0;32m<ipython-input-20-26982def68c1>\u001b[0m in \u001b[0;36m<module>\u001b[0;34m\u001b[0m\n\u001b[1;32m      2\u001b[0m \u001b[0mwhale_strSig\u001b[0m \u001b[0;34m=\u001b[0m \u001b[0mwhale_aiff\u001b[0m\u001b[0;34m.\u001b[0m\u001b[0mreadframes\u001b[0m\u001b[0;34m(\u001b[0m\u001b[0mwhale_aiff\u001b[0m\u001b[0;34m.\u001b[0m\u001b[0mgetnframes\u001b[0m\u001b[0;34m(\u001b[0m\u001b[0;34m)\u001b[0m\u001b[0;34m)\u001b[0m\u001b[0;34m\u001b[0m\u001b[0;34m\u001b[0m\u001b[0m\n\u001b[1;32m      3\u001b[0m \u001b[0mwhale_array\u001b[0m \u001b[0;34m=\u001b[0m \u001b[0mnp\u001b[0m\u001b[0;34m.\u001b[0m\u001b[0mfromstring\u001b[0m\u001b[0;34m(\u001b[0m\u001b[0mwhale_strSig\u001b[0m\u001b[0;34m,\u001b[0m \u001b[0mnp\u001b[0m\u001b[0;34m.\u001b[0m\u001b[0mshort\u001b[0m\u001b[0;34m)\u001b[0m\u001b[0;34m.\u001b[0m\u001b[0mbyteswap\u001b[0m\u001b[0;34m(\u001b[0m\u001b[0;34m)\u001b[0m\u001b[0;34m\u001b[0m\u001b[0;34m\u001b[0m\u001b[0m\n\u001b[0;32m----> 4\u001b[0;31m \u001b[0mplt\u001b[0m\u001b[0;34m.\u001b[0m\u001b[0mplot\u001b[0m\u001b[0;34m(\u001b[0m\u001b[0mwhale_array\u001b[0m\u001b[0;34m)\u001b[0m\u001b[0;34m\u001b[0m\u001b[0;34m\u001b[0m\u001b[0m\n\u001b[0m",
      "\u001b[0;31mNameError\u001b[0m: name 'plt' is not defined"
     ]
    }
   ],
   "source": [
    "# reading the data\n",
    "whale_strSig = whale_aiff.readframes(whale_aiff.getnframes())\n",
    "whale_array = np.fromstring(whale_strSig, np.short).byteswap()\n",
    "plt.plot(whale_array)"
   ]
  },
  {
   "cell_type": "code",
   "execution_count": 21,
   "metadata": {},
   "outputs": [],
   "source": [
    "signal = whale_array.astype('float64')"
   ]
  },
  {
   "cell_type": "code",
   "execution_count": 22,
   "metadata": {},
   "outputs": [
    {
     "data": {
      "text/html": [
       "\n",
       "                <audio  controls=\"controls\" autoplay=\"autoplay\">\n",
       "                    <source src=\"data:audio/wav;base64,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\" type=\"audio/wav\" />\n",
       "                    Your browser does not support the audio element.\n",
       "                </audio>\n",
       "              "
      ],
      "text/plain": [
       "<IPython.lib.display.Audio object>"
      ]
     },
     "execution_count": 22,
     "metadata": {},
     "output_type": "execute_result"
    }
   ],
   "source": [
    "# playing a whale upcall in the notebook\n",
    "from IPython.display import Audio\n",
    "Audio(signal, rate=3000, autoplay = True)# the rate is set to 3000 make the widget to run (seems the widget does not run with rate below 3000)"
   ]
  },
  {
   "cell_type": "markdown",
   "metadata": {},
   "source": [
    "Working directly with the signals is hard (there is important frequency information). Let's calculate the spectrograms for each of the signals and use as features."
   ]
  },
  {
   "cell_type": "code",
   "execution_count": 23,
   "metadata": {},
   "outputs": [],
   "source": [
    "# a function for plotting spectrograms\n",
    "def PlotSpecgram(P, freqs, bins):\n",
    "    \"\"\"Spectrogram\"\"\"\n",
    "    Z = np.flipud(P) # flip rows so that top goes to bottom, bottom to top, etc.\n",
    "    xextent = 0, np.amax(bins)\n",
    "    xmin, xmax = xextent\n",
    "    extent = xmin, xmax, freqs[0], freqs[-1]\n",
    "    im = pl.imshow(Z, extent=extent,cmap = 'plasma')\n",
    "    pl.axis('auto')\n",
    "    pl.xlim([0.0, bins[-1]])\n",
    "    pl.ylim([0, freqs[-1]])"
   ]
  },
  {
   "cell_type": "code",
   "execution_count": 28,
   "metadata": {},
   "outputs": [
    {
     "data": {
      "image/png": "[encoded data removed]",
      "text/plain": [
       "<Figure size 432x288 with 1 Axes>"
      ]
     },
     "metadata": {
      "needs_background": "light"
     },
     "output_type": "display_data"
    }
   ],
   "source": [
    "params = {'NFFT':256, 'Fs':2000, 'noverlap':192}\n",
    "P, freqs, bins = mlab.specgram(whale_array, **params)\n",
    "PlotSpecgram(P, freqs, bins)"
   ]
  },
  {
   "cell_type": "markdown",
   "metadata": {},
   "source": [
    "### Feature Extraction\n",
    "---"
   ]
  },
  {
   "cell_type": "markdown",
   "metadata": {},
   "source": [
    "We will go through all the files and extract the spectrograms from each of them."
   ]
  },
  {
   "cell_type": "code",
   "execution_count": 35,
   "metadata": {},
   "outputs": [
    {
     "name": "stdout",
     "output_type": "stream",
     "text": [
      "(60, 59)\n"
     ]
    }
   ],
   "source": [
    "# create a dictionary which contains all the spectrograms, labeled by the filename\n",
    "spec_dict = {}\n",
    "\n",
    "# threshold to cut higher frequencies\n",
    "m = 60\n",
    "\n",
    "# loop through all the files\n",
    "for filename in filenames[:10000]:\n",
    "    # read the file\n",
    "    aiff = aifc.open(filename,'r')\n",
    "    whale_strSig = aiff.readframes(aiff.getnframes())\n",
    "    whale_array = np.fromstring(whale_strSig, np.short).byteswap()\n",
    "    # create the spectrogram\n",
    "    P, freqs, bins = mlab.specgram(whale_array, **params)\n",
    "    spec_dict[filename] = P[:m,:]\n",
    "\n",
    "# save the dimensions of the spectrogram\n",
    "spec_dim = P[:m,:].shape\n",
    "print(spec_dim)\n",
    "    "
   ]
  },
  {
   "cell_type": "markdown",
   "metadata": {},
   "source": [
    "Most machine learning algorithms in Python expect the data to come in a format **observations** x **features**. In order to get the data in this format we need to convert the two-dimensional spectrogram into a long vector. For that we will use the `ravel` function."
   ]
  },
  {
   "cell_type": "code",
   "execution_count": 36,
   "metadata": {},
   "outputs": [],
   "source": [
    "# We will put the data in a dictionary\n",
    "feature_dict = {}\n",
    "for key in filenames[:10000]:\n",
    "    # vectorize the spectrogram\n",
    "    feature_dict[key.split('/')[-1]] = spec_dict[key].ravel()\n",
    "\n",
    "# convert to a pandas dataframe\n",
    "X = pd.DataFrame(feature_dict).T"
   ]
  },
  {
   "cell_type": "code",
   "execution_count": 37,
   "metadata": {},
   "outputs": [
    {
     "data": {
      "text/html": [
       "<div>\n",
       "<style scoped>\n",
       "    .dataframe tbody tr th:only-of-type {\n",
       "        vertical-align: middle;\n",
       "    }\n",
       "\n",
       "    .dataframe tbody tr th {\n",
       "        vertical-align: top;\n",
       "    }\n",
       "\n",
       "    .dataframe thead th {\n",
       "        text-align: right;\n",
       "    }\n",
       "</style>\n",
       "<table border=\"1\" class=\"dataframe\">\n",
       "  <thead>\n",
       "    <tr style=\"text-align: right;\">\n",
       "      <th></th>\n",
       "      <th>0</th>\n",
       "      <th>1</th>\n",
       "      <th>2</th>\n",
       "      <th>3</th>\n",
       "      <th>4</th>\n",
       "      <th>5</th>\n",
       "      <th>6</th>\n",
       "      <th>7</th>\n",
       "      <th>8</th>\n",
       "      <th>9</th>\n",
       "      <th>...</th>\n",
       "      <th>3530</th>\n",
       "      <th>3531</th>\n",
       "      <th>3532</th>\n",
       "      <th>3533</th>\n",
       "      <th>3534</th>\n",
       "      <th>3535</th>\n",
       "      <th>3536</th>\n",
       "      <th>3537</th>\n",
       "      <th>3538</th>\n",
       "      <th>3539</th>\n",
       "    </tr>\n",
       "  </thead>\n",
       "  <tbody>\n",
       "    <tr>\n",
       "      <th>train15944.aiff</th>\n",
       "      <td>0.117013</td>\n",
       "      <td>0.120529</td>\n",
       "      <td>0.127562</td>\n",
       "      <td>0.113052</td>\n",
       "      <td>0.115360</td>\n",
       "      <td>0.135781</td>\n",
       "      <td>0.128078</td>\n",
       "      <td>0.131383</td>\n",
       "      <td>0.109098</td>\n",
       "      <td>0.108713</td>\n",
       "      <td>...</td>\n",
       "      <td>17.174643</td>\n",
       "      <td>15.188480</td>\n",
       "      <td>39.076166</td>\n",
       "      <td>112.261875</td>\n",
       "      <td>46.009681</td>\n",
       "      <td>13.716193</td>\n",
       "      <td>24.730130</td>\n",
       "      <td>19.374978</td>\n",
       "      <td>7.130112</td>\n",
       "      <td>57.734182</td>\n",
       "    </tr>\n",
       "    <tr>\n",
       "      <th>train4366.aiff</th>\n",
       "      <td>0.119470</td>\n",
       "      <td>0.161846</td>\n",
       "      <td>0.148789</td>\n",
       "      <td>0.040809</td>\n",
       "      <td>0.044593</td>\n",
       "      <td>0.075202</td>\n",
       "      <td>0.089081</td>\n",
       "      <td>0.099522</td>\n",
       "      <td>0.107480</td>\n",
       "      <td>0.111695</td>\n",
       "      <td>...</td>\n",
       "      <td>6.234882</td>\n",
       "      <td>44.895261</td>\n",
       "      <td>158.001978</td>\n",
       "      <td>357.737779</td>\n",
       "      <td>34.045099</td>\n",
       "      <td>198.627941</td>\n",
       "      <td>190.248608</td>\n",
       "      <td>31.304366</td>\n",
       "      <td>94.120500</td>\n",
       "      <td>44.572119</td>\n",
       "    </tr>\n",
       "    <tr>\n",
       "      <th>train16561.aiff</th>\n",
       "      <td>0.155580</td>\n",
       "      <td>0.041401</td>\n",
       "      <td>0.072027</td>\n",
       "      <td>0.022811</td>\n",
       "      <td>0.092146</td>\n",
       "      <td>0.226638</td>\n",
       "      <td>0.251511</td>\n",
       "      <td>0.001038</td>\n",
       "      <td>0.274490</td>\n",
       "      <td>0.079093</td>\n",
       "      <td>...</td>\n",
       "      <td>0.351046</td>\n",
       "      <td>13.076990</td>\n",
       "      <td>123.415245</td>\n",
       "      <td>188.936994</td>\n",
       "      <td>55.161358</td>\n",
       "      <td>0.831907</td>\n",
       "      <td>5.325364</td>\n",
       "      <td>15.600361</td>\n",
       "      <td>51.040280</td>\n",
       "      <td>123.821796</td>\n",
       "    </tr>\n",
       "    <tr>\n",
       "      <th>train22433.aiff</th>\n",
       "      <td>0.135302</td>\n",
       "      <td>0.035377</td>\n",
       "      <td>0.081238</td>\n",
       "      <td>0.004214</td>\n",
       "      <td>0.143000</td>\n",
       "      <td>0.203257</td>\n",
       "      <td>0.073493</td>\n",
       "      <td>0.227311</td>\n",
       "      <td>0.026025</td>\n",
       "      <td>0.000145</td>\n",
       "      <td>...</td>\n",
       "      <td>1047.008639</td>\n",
       "      <td>830.379853</td>\n",
       "      <td>712.046489</td>\n",
       "      <td>375.484076</td>\n",
       "      <td>412.742256</td>\n",
       "      <td>208.436051</td>\n",
       "      <td>220.426478</td>\n",
       "      <td>621.270385</td>\n",
       "      <td>720.294676</td>\n",
       "      <td>84.341933</td>\n",
       "    </tr>\n",
       "    <tr>\n",
       "      <th>train2426.aiff</th>\n",
       "      <td>0.062076</td>\n",
       "      <td>0.279349</td>\n",
       "      <td>0.036748</td>\n",
       "      <td>0.189130</td>\n",
       "      <td>0.074398</td>\n",
       "      <td>0.119221</td>\n",
       "      <td>0.229988</td>\n",
       "      <td>0.008467</td>\n",
       "      <td>0.048984</td>\n",
       "      <td>0.215903</td>\n",
       "      <td>...</td>\n",
       "      <td>127.714721</td>\n",
       "      <td>497.711303</td>\n",
       "      <td>747.550045</td>\n",
       "      <td>341.664856</td>\n",
       "      <td>389.355896</td>\n",
       "      <td>77.416182</td>\n",
       "      <td>12.434569</td>\n",
       "      <td>64.065962</td>\n",
       "      <td>104.247010</td>\n",
       "      <td>65.298018</td>\n",
       "    </tr>\n",
       "  </tbody>\n",
       "</table>\n",
       "<p>5 rows × 3540 columns</p>\n",
       "</div>"
      ],
      "text/plain": [
       "                     0         1         2         3         4         5     \\\n",
       "train15944.aiff  0.117013  0.120529  0.127562  0.113052  0.115360  0.135781   \n",
       "train4366.aiff   0.119470  0.161846  0.148789  0.040809  0.044593  0.075202   \n",
       "train16561.aiff  0.155580  0.041401  0.072027  0.022811  0.092146  0.226638   \n",
       "train22433.aiff  0.135302  0.035377  0.081238  0.004214  0.143000  0.203257   \n",
       "train2426.aiff   0.062076  0.279349  0.036748  0.189130  0.074398  0.119221   \n",
       "\n",
       "                     6         7         8         9     ...         3530  \\\n",
       "train15944.aiff  0.128078  0.131383  0.109098  0.108713  ...    17.174643   \n",
       "train4366.aiff   0.089081  0.099522  0.107480  0.111695  ...     6.234882   \n",
       "train16561.aiff  0.251511  0.001038  0.274490  0.079093  ...     0.351046   \n",
       "train22433.aiff  0.073493  0.227311  0.026025  0.000145  ...  1047.008639   \n",
       "train2426.aiff   0.229988  0.008467  0.048984  0.215903  ...   127.714721   \n",
       "\n",
       "                       3531        3532        3533        3534        3535  \\\n",
       "train15944.aiff   15.188480   39.076166  112.261875   46.009681   13.716193   \n",
       "train4366.aiff    44.895261  158.001978  357.737779   34.045099  198.627941   \n",
       "train16561.aiff   13.076990  123.415245  188.936994   55.161358    0.831907   \n",
       "train22433.aiff  830.379853  712.046489  375.484076  412.742256  208.436051   \n",
       "train2426.aiff   497.711303  747.550045  341.664856  389.355896   77.416182   \n",
       "\n",
       "                       3536        3537        3538        3539  \n",
       "train15944.aiff   24.730130   19.374978    7.130112   57.734182  \n",
       "train4366.aiff   190.248608   31.304366   94.120500   44.572119  \n",
       "train16561.aiff    5.325364   15.600361   51.040280  123.821796  \n",
       "train22433.aiff  220.426478  621.270385  720.294676   84.341933  \n",
       "train2426.aiff    12.434569   64.065962  104.247010   65.298018  \n",
       "\n",
       "[5 rows x 3540 columns]"
      ]
     },
     "execution_count": 37,
     "metadata": {},
     "output_type": "execute_result"
    }
   ],
   "source": [
    "X.head(5)"
   ]
  },
  {
   "cell_type": "code",
   "execution_count": 38,
   "metadata": {},
   "outputs": [],
   "source": [
    "# we do not need these objects anymore so let's release them from memory\n",
    "del feature_dict\n",
    "del spec_dict"
   ]
  },
  {
   "cell_type": "code",
   "execution_count": 33,
   "metadata": {},
   "outputs": [],
   "source": [
    "# let's save these variables for reuse\n",
    "np.save('X.npy',X)\n",
    "np.save('y.npy',np.array(labels['label'][X.index])[:10000])"
   ]
  },
  {
   "cell_type": "markdown",
   "metadata": {},
   "source": [
    "### References:\n",
    "\n",
    "https://www.kaggle.com/c/whale-detection-challenge\n",
    "\n",
    "https://github.com/jaimeps/whale-sound-classification"
   ]
  }
 ],
 "metadata": {
  "anaconda-cloud": {},
  "kernelspec": {
   "display_name": "Python 3",
   "language": "python",
   "name": "python3"
  },
  "language_info": {
   "codemirror_mode": {
    "name": "ipython",
    "version": 3
   },
   "file_extension": ".py",
   "mimetype": "text/x-python",
   "name": "python",
   "nbconvert_exporter": "python",
   "pygments_lexer": "ipython3",
   "version": "3.7.3"
  }
 },
 "nbformat": 4,
 "nbformat_minor": 4
}
